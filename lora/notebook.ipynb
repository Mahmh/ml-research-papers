{
 "cells": [
  {
   "cell_type": "markdown",
   "id": "d5ce0391",
   "metadata": {},
   "source": [
    "# Low-Rank Adaptation (LoRA)\n",
    "Below is code used to train a `Qwen/Qwen2.5-1.5B-Instruct` model on the `yahma/alpaca-cleaned` dataset (50K rows) with LoRA vs. without."
   ]
  },
  {
   "cell_type": "code",
   "execution_count": null,
   "id": "b2b0ed25",
   "metadata": {},
   "outputs": [],
   "source": [
    "from lib.config import Config\n",
    "from lib.train_and_eval import train_and_evaluate"
   ]
  },
  {
   "cell_type": "markdown",
   "id": "e6af0d3b",
   "metadata": {},
   "source": [
    "## With LoRA"
   ]
  },
  {
   "cell_type": "code",
   "execution_count": null,
   "id": "cc171314",
   "metadata": {},
   "outputs": [],
   "source": [
    "cfg = Config(use_lora=True)\n",
    "train_and_evaluate(cfg, resume_ckpt=None)"
   ]
  },
  {
   "cell_type": "markdown",
   "id": "b4b7c78e",
   "metadata": {},
   "source": [
    "## Without LoRA"
   ]
  },
  {
   "cell_type": "code",
   "execution_count": null,
   "id": "d55a0699",
   "metadata": {},
   "outputs": [],
   "source": [
    "cfg = Config(use_lora=False)\n",
    "train_and_evaluate(cfg, resume_ckpt=None)"
   ]
  }
 ],
 "metadata": {
  "kernelspec": {
   "display_name": "stdml",
   "language": "python",
   "name": "python3"
  },
  "language_info": {
   "codemirror_mode": {
    "name": "ipython",
    "version": 3
   },
   "file_extension": ".py",
   "mimetype": "text/x-python",
   "name": "python",
   "nbconvert_exporter": "python",
   "pygments_lexer": "ipython3",
   "version": "3.11.4"
  }
 },
 "nbformat": 4,
 "nbformat_minor": 5
}
