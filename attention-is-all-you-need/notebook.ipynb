{
 "cells": [
  {
   "cell_type": "markdown",
   "id": "44865771",
   "metadata": {},
   "source": [
    "## Import Utilities\n",
    "Datasets, tokenizers, and configuration constants are loaded from the `lib/` directory."
   ]
  },
  {
   "cell_type": "code",
   "execution_count": null,
   "id": "e6df547c",
   "metadata": {},
   "outputs": [],
   "source": [
    "from lib.wmt19_model_utils import train_and_evaluate\n",
    "from lib.wmt19_data_utils import vocab_src, vocab_tgt\n",
    "from lib.constants import Config"
   ]
  },
  {
   "cell_type": "markdown",
   "id": "29ee2d91",
   "metadata": {},
   "source": [
    "## Train & Evaluate\n",
    "I used an NVIDIA RTX 4080 GPU with 16 GB VRAM throughout the whole training & evaluation process. You should you use a capable hardware to run this:"
   ]
  },
  {
   "cell_type": "code",
   "execution_count": null,
   "id": "bdf8af4e",
   "metadata": {},
   "outputs": [],
   "source": [
    "base_config = Config(\n",
    "    input_seq_len=128,\n",
    "    output_seq_len=128,\n",
    "    src_vocab_size=len(vocab_src),\n",
    "    tgt_vocab_size=len(vocab_tgt),\n",
    "    batch_size=64,\n",
    "    d_model=256,\n",
    "    d_ff=1024,\n",
    "    num_heads=8,\n",
    "    num_encoders=4,\n",
    "    num_decoders=4,\n",
    "    p_drop=0.1,\n",
    "    lr=1.0,\n",
    "    warmup_steps=4000,\n",
    "    num_epochs=20,\n",
    "    save_every=1,\n",
    "    optimizer_betas=(0.9, 0.98),\n",
    "    optimizer_eps=1e-9,\n",
    "    early_stopping_patience=5,\n",
    "    early_stopping_min_delta=1e-4,\n",
    "    src_pad_idx=vocab_src['<pad>'],\n",
    "    tgt_pad_idx=vocab_tgt['<pad>'],\n",
    "    tgt_bos_idx=vocab_tgt['<bos>'],\n",
    "    tgt_eos_idx=vocab_tgt['<eos>']\n",
    ")\n",
    "\n",
    "# Train and save\n",
    "checkpoint_folder = train_and_evaluate(base_config)\n",
    "print(f\"Saved checkpoint in ./{checkpoint_folder}\")\n"
   ]
  },
  {
   "cell_type": "markdown",
   "id": "474211ae",
   "metadata": {},
   "source": [
    "## Inference\n",
    "After training the model, load its latest version and then let it translate an English text to Czech. Feel free to change the arguments added below."
   ]
  },
  {
   "cell_type": "code",
   "execution_count": null,
   "id": "54629616",
   "metadata": {},
   "outputs": [],
   "source": [
    "from lib.wmt19_model_utils import load_model, translate\n",
    "model = load_model(checkpoint_folder)\n",
    "translate(model, 'I have some good news!', max_len=30, beam_width=4, len_penalty=0.9)"
   ]
  }
 ],
 "metadata": {
  "kernelspec": {
   "display_name": "stdml",
   "language": "python",
   "name": "python3"
  },
  "language_info": {
   "codemirror_mode": {
    "name": "ipython",
    "version": 3
   },
   "file_extension": ".py",
   "mimetype": "text/x-python",
   "name": "python",
   "nbconvert_exporter": "python",
   "pygments_lexer": "ipython3",
   "version": "3.11.4"
  }
 },
 "nbformat": 4,
 "nbformat_minor": 5
}
