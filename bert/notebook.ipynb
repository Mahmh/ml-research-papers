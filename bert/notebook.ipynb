{
 "cells": [
  {
   "cell_type": "markdown",
   "id": "5c5a9930",
   "metadata": {},
   "source": [
    "Below is the training, evaluation, and inference code of several models on the Stanford IMDb movie review sentiment analysis dataset."
   ]
  },
  {
   "cell_type": "markdown",
   "id": "b3f60603",
   "metadata": {},
   "source": [
    "## BERT"
   ]
  },
  {
   "cell_type": "code",
   "execution_count": null,
   "id": "a014d29f",
   "metadata": {},
   "outputs": [],
   "source": [
    "from lib.bert.config import BERTConfig\n",
    "from lib.bert.dataprep import get_data_loaders\n",
    "from lib.bert.model import BERTClassifier, prepare_optimizer_and_scheduler, train, infer"
   ]
  },
  {
   "cell_type": "code",
   "execution_count": null,
   "id": "58a36c73",
   "metadata": {},
   "outputs": [],
   "source": [
    "bert_config = BERTConfig()\n",
    "train_loader, val_loader, test_loader = get_data_loaders(bert_config)"
   ]
  },
  {
   "cell_type": "code",
   "execution_count": null,
   "id": "ee6180a5",
   "metadata": {},
   "outputs": [],
   "source": [
    "model = BERTClassifier(bert_config)\n",
    "optimizer, scheduler = prepare_optimizer_and_scheduler(\n",
    "    model, len(train_loader), bert_config\n",
    ")"
   ]
  },
  {
   "cell_type": "code",
   "execution_count": null,
   "id": "9f7afd78",
   "metadata": {},
   "outputs": [],
   "source": [
    "train(\n",
    "    model,\n",
    "    optimizer,\n",
    "    scheduler,\n",
    "    train_loader,\n",
    "    val_loader,\n",
    "    test_loader,\n",
    "    bert_config,\n",
    "    model_name=\"bert\",\n",
    ")"
   ]
  },
  {
   "cell_type": "code",
   "execution_count": null,
   "id": "3548e3e5",
   "metadata": {},
   "outputs": [],
   "source": [
    "from lib.utils import load_checkpoint\n",
    "\n",
    "model, _, _, _, bert_config = load_checkpoint(\n",
    "    \"./checkpoints/bert/20250717_210531\", BERTClassifier, BERTConfig\n",
    ")\n",
    "\n",
    "infer(model, text=input(\"Type a movie review: \"), config=bert_config)"
   ]
  },
  {
   "cell_type": "markdown",
   "id": "1048a7aa",
   "metadata": {},
   "source": [
    "## BiLSTM"
   ]
  },
  {
   "cell_type": "code",
   "execution_count": null,
   "id": "4789897b",
   "metadata": {},
   "outputs": [],
   "source": [
    "from lib.bilstm.config import BiLSTMConfig\n",
    "from lib.bilstm.dataprep import get_data_loaders\n",
    "from lib.bilstm.model import BiLSTMClassifier, prepare_optimizer_and_scheduler, train, infer"
   ]
  },
  {
   "cell_type": "code",
   "execution_count": null,
   "id": "acc80ba2",
   "metadata": {},
   "outputs": [],
   "source": [
    "bilstm_config = BiLSTMConfig()\n",
    "train_loader, val_loader, test_loader, vocab_size = get_data_loaders(bilstm_config)\n",
    "bilstm_config.vocab_size = vocab_size"
   ]
  },
  {
   "cell_type": "code",
   "execution_count": null,
   "id": "a95992c0",
   "metadata": {},
   "outputs": [],
   "source": [
    "model = BiLSTMClassifier(bilstm_config)\n",
    "optimizer, scheduler = prepare_optimizer_and_scheduler(\n",
    "    model, len(train_loader), bilstm_config\n",
    ")"
   ]
  },
  {
   "cell_type": "code",
   "execution_count": null,
   "id": "bec987db",
   "metadata": {},
   "outputs": [],
   "source": [
    "train(\n",
    "    model,\n",
    "    optimizer,\n",
    "    scheduler,\n",
    "    train_loader,\n",
    "    val_loader,\n",
    "    test_loader,\n",
    "    bilstm_config,\n",
    "    model_name=\"bilstm\",\n",
    ")"
   ]
  },
  {
   "cell_type": "code",
   "execution_count": null,
   "id": "f05b7f16",
   "metadata": {},
   "outputs": [],
   "source": [
    "from lib.utils import load_checkpoint\n",
    "\n",
    "model, _, _, _, bilstm_config = load_checkpoint(\n",
    "    \"./checkpoints/bilstm/20250718_172337\",\n",
    "    BiLSTMClassifier,\n",
    "    BiLSTMConfig,\n",
    ")\n",
    "\n",
    "infer(model, text=input(\"Type a movie review: \"), config=bilstm_config)"
   ]
  },
  {
   "cell_type": "markdown",
   "id": "ac229206",
   "metadata": {},
   "source": [
    "## Logistic Regression"
   ]
  },
  {
   "cell_type": "code",
   "execution_count": null,
   "id": "b43518b3",
   "metadata": {},
   "outputs": [],
   "source": [
    "from lib.lr.config import LogisticRegressionConfig\n",
    "from lib.lr.dataprep import get_data_loaders\n",
    "from lib.lr.model import LogisticRegressionClassifier, prepare_optimizer, train, infer"
   ]
  },
  {
   "cell_type": "code",
   "execution_count": null,
   "id": "aab25a17",
   "metadata": {},
   "outputs": [],
   "source": [
    "lr_config = LogisticRegressionConfig()\n",
    "train_loader, val_loader, test_loader, vectorizer = get_data_loaders(lr_config)\n",
    "lr_config.input_dim = vectorizer.transform([\"\"]).shape[1]"
   ]
  },
  {
   "cell_type": "code",
   "execution_count": null,
   "id": "20e93ecd",
   "metadata": {},
   "outputs": [],
   "source": [
    "model = LogisticRegressionClassifier(lr_config)\n",
    "optimizer = prepare_optimizer(model, lr_config)"
   ]
  },
  {
   "cell_type": "code",
   "execution_count": null,
   "id": "b3a3b4b0",
   "metadata": {},
   "outputs": [],
   "source": [
    "train(\n",
    "    model,\n",
    "    optimizer,\n",
    "    train_loader,\n",
    "    val_loader,\n",
    "    test_loader,\n",
    "    lr_config,\n",
    "    model_name=\"lr\",\n",
    ")"
   ]
  },
  {
   "cell_type": "code",
   "execution_count": null,
   "id": "bc32acb3",
   "metadata": {},
   "outputs": [],
   "source": [
    "from lib.utils import load_checkpoint\n",
    "\n",
    "model, _, _, _, lr_config = load_checkpoint(\n",
    "    \"./checkpoints/lr/20250718_151422\",\n",
    "    LogisticRegressionClassifier,\n",
    "    LogisticRegressionConfig,\n",
    ")\n",
    "\n",
    "infer(model, vectorizer, text=input(\"Type a movie review: \"))"
   ]
  }
 ],
 "metadata": {
  "kernelspec": {
   "display_name": "stdml",
   "language": "python",
   "name": "python3"
  },
  "language_info": {
   "codemirror_mode": {
    "name": "ipython",
    "version": 3
   },
   "file_extension": ".py",
   "mimetype": "text/x-python",
   "name": "python",
   "nbconvert_exporter": "python",
   "pygments_lexer": "ipython3",
   "version": "3.11.4"
  }
 },
 "nbformat": 4,
 "nbformat_minor": 5
}
