{
 "cells": [
  {
   "cell_type": "markdown",
   "id": "e188a2b6",
   "metadata": {},
   "source": [
    "# CoT Reasoning Using Gemini API\n",
    "Below is a minimal example of Chain‑of‑Thought prompting using Google's `gemini-1.5-flash` model. Gemini is a great choice because:\n",
    "- Free tier available: Run these examples at no cost.\n",
    "- Strong CoT performance: You get the benefits of a large‑scale model without needing your own GPU cluster."
   ]
  },
  {
   "cell_type": "code",
   "execution_count": 1,
   "id": "91d4b6b5",
   "metadata": {},
   "outputs": [],
   "source": [
    "from google import genai"
   ]
  },
  {
   "cell_type": "markdown",
   "id": "1c340ea6",
   "metadata": {},
   "source": [
    "### Define constants & utilities\n",
    "Make sure to set `GEMINI_API_KEY` to your actual Gemini API key created from [Google AI Studio](https://aistudio.google.com/welcome)."
   ]
  },
  {
   "cell_type": "code",
   "execution_count": null,
   "id": "798da6a8",
   "metadata": {},
   "outputs": [],
   "source": [
    "GEMINI_MODEL = \"gemini-1.5-flash\"\n",
    "GEMINI_API_KEY = \"YOUR GEMINI API KEY HERE\"\n",
    "gemini_client = genai.Client(api_key=GEMINI_API_KEY)\n",
    "\n",
    "\n",
    "def generate_response(prompt: str) -> str:\n",
    "    res = gemini_client.models.generate_content(model=GEMINI_MODEL, contents=prompt)\n",
    "    return res.text"
   ]
  },
  {
   "cell_type": "markdown",
   "id": "9ba9e8d6",
   "metadata": {},
   "source": [
    "### Zero‑Shot CoT Example"
   ]
  },
  {
   "cell_type": "code",
   "execution_count": 3,
   "id": "e1806c68",
   "metadata": {},
   "outputs": [
    {
     "name": "stdout",
     "output_type": "stream",
     "text": [
      "Zero-Shot CoT Prompt:\n",
      " \n",
      "If there are 23 cookies and you eat 7, how many are left?\n",
      "Let's think step by step.\n",
      " \n",
      "\n",
      "=== Response ===\n",
      "Step 1: Start with the total number of cookies: 23\n",
      "\n",
      "Step 2: Subtract the number of cookies eaten: 23 - 7\n",
      "\n",
      "Step 3: The result is the number of cookies left: 16\n",
      "\n",
      "There are 16 cookies left.\n",
      "\n"
     ]
    }
   ],
   "source": [
    "zero_shot = \"\"\"\n",
    "If there are 23 cookies and you eat 7, how many are left?\n",
    "Let's think step by step.\n",
    "\"\"\"\n",
    "print(\"Zero-Shot CoT Prompt:\\n\", zero_shot, \"\\n\")\n",
    "print(\"=== Response ===\")\n",
    "print(generate_response(zero_shot))"
   ]
  },
  {
   "cell_type": "markdown",
   "id": "06d77841",
   "metadata": {},
   "source": [
    "### Few‑Shot CoT Example"
   ]
  },
  {
   "cell_type": "code",
   "execution_count": 4,
   "id": "c6f866f4",
   "metadata": {},
   "outputs": [
    {
     "name": "stdout",
     "output_type": "stream",
     "text": [
      "\n",
      "Few-Shot CoT Prompt:\n",
      " \n",
      "Example 1\n",
      "Q: Sara has 5 apples and buys 8 more. How many apples does she have?\n",
      "A: Let's think step by step.\n",
      "1. She started with 5 apples.\n",
      "2. She added 8 apples.\n",
      "3. 5 + 8 = 13 apples.\n",
      "Answer: 13\n",
      "\n",
      "Example 2\n",
      "Q: Tim reads 12 pages on Monday and 15 pages on Tuesday. How many pages in total?\n",
      "A: Let's think step by step.\n",
      "1. He read 12 pages on Monday.\n",
      "2. He read 15 pages on Tuesday.\n",
      "3. 12 + 15 = 27 pages.\n",
      "Answer: 27\n",
      "\n",
      "Now you try:\n",
      "Q: A box has 30 pens. Jane gives away 9 pens. How many remain?\n",
      "A: Let's think step by step.\n",
      " \n",
      "\n",
      "=== Response ===\n",
      "A: Let's think step by step.\n",
      "1. The box started with 30 pens.\n",
      "2. Jane gave away 9 pens.\n",
      "3. 30 - 9 = 21 pens.\n",
      "Answer: 21\n",
      "\n"
     ]
    }
   ],
   "source": [
    "few_shot = \"\"\"\n",
    "Example 1\n",
    "Q: Sara has 5 apples and buys 8 more. How many apples does she have?\n",
    "A: Let's think step by step.\n",
    "1. She started with 5 apples.\n",
    "2. She added 8 apples.\n",
    "3. 5 + 8 = 13 apples.\n",
    "Answer: 13\n",
    "\n",
    "Example 2\n",
    "Q: Tim reads 12 pages on Monday and 15 pages on Tuesday. How many pages in total?\n",
    "A: Let's think step by step.\n",
    "1. He read 12 pages on Monday.\n",
    "2. He read 15 pages on Tuesday.\n",
    "3. 12 + 15 = 27 pages.\n",
    "Answer: 27\n",
    "\n",
    "Now you try:\n",
    "Q: A box has 30 pens. Jane gives away 9 pens. How many remain?\n",
    "A: Let's think step by step.\n",
    "\"\"\"\n",
    "print(\"\\nFew-Shot CoT Prompt:\\n\", few_shot, \"\\n\")\n",
    "print(\"=== Response ===\")\n",
    "print(generate_response(few_shot))"
   ]
  }
 ],
 "metadata": {
  "kernelspec": {
   "display_name": "stdml",
   "language": "python",
   "name": "python3"
  },
  "language_info": {
   "codemirror_mode": {
    "name": "ipython",
    "version": 3
   },
   "file_extension": ".py",
   "mimetype": "text/x-python",
   "name": "python",
   "nbconvert_exporter": "python",
   "pygments_lexer": "ipython3",
   "version": "3.11.4"
  }
 },
 "nbformat": 4,
 "nbformat_minor": 5
}
